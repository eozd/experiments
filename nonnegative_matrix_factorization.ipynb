{
 "cells": [
  {
   "cell_type": "markdown",
   "metadata": {},
   "source": [
    "## Nonnegative Matrix Factorization"
   ]
  },
  {
   "cell_type": "code",
   "execution_count": 59,
   "metadata": {},
   "outputs": [],
   "source": [
    "%matplotlib inline\n",
    "\n",
    "import numpy as np\n",
    "import matplotlib.pyplot as plt"
   ]
  },
  {
   "cell_type": "markdown",
   "metadata": {},
   "source": [
    "NMF is a method to factorize a nonnegative matrix $X_{m \\times n}$ to nonnegative matrix factors $W_{m \\times r}$ and $H_{r \\times n}$ such that $X \\approx WH$. Here, $r$ is a parameter to be determined."
   ]
  },
  {
   "cell_type": "markdown",
   "metadata": {},
   "source": [
    "### Iterative Algorithm for NMF\n",
    "An iterative algorithm for NMF as proposed in [[1]](#references)."
   ]
  },
  {
   "cell_type": "code",
   "execution_count": 24,
   "metadata": {},
   "outputs": [],
   "source": [
    "def obj_func(orig, approx):\n",
    "    \"\"\"\n",
    "    Compute the objective function value for NMF given the original\n",
    "    and approximate matrices.\n",
    "    \n",
    "    Parameters\n",
    "    ----------\n",
    "    orig : numpy.array\n",
    "        Original matrix to factorize.\n",
    "    approx : numpy.array\n",
    "        Current approximate matrix.\n",
    "        \n",
    "    Returns\n",
    "    -------\n",
    "    obj_value : float\n",
    "        Current objective function value.\n",
    "    \"\"\"\n",
    "    divergence_matrix = orig*np.log(approx) - approx\n",
    "    return np.sum(divergence_matrix)\n",
    "\n",
    "def nmf(X, r):\n",
    "    \"\"\"\n",
    "    Given a nonnegative matrix X of shape m x n, iteratively\n",
    "    compute a nonnegative matrix factorization X = WH, and\n",
    "    return the factors W and H.\n",
    "    \n",
    "    The returned factors have shapes (m, r) and (r, n),\n",
    "    respectively.\n",
    "    \n",
    "    Parameters\n",
    "    ----------\n",
    "    X : numpy.array\n",
    "        m x n nonnegative matrix.\n",
    "    r : int\n",
    "        Number of columns of factor W.\n",
    "        \n",
    "    Returns\n",
    "    -------\n",
    "    W : numpy.array\n",
    "        m x r nonnegative matrix.\n",
    "    H : numpy.array\n",
    "        r x n nonnegative matrix.\n",
    "    \"\"\"\n",
    "    m, n = X.shape\n",
    "    W = np.random.rand(m, r)\n",
    "    H = np.random.rand(r, n)\n",
    "    prev_objs = np.zeros(100)\n",
    "    prev_index = 0\n",
    "    while True:\n",
    "        XA = W@H  \n",
    "        \n",
    "        # Convergence check\n",
    "        curr_obj = obj_func(X, XA)\n",
    "        if abs(curr_obj - np.mean(prev_objs)) < 1e-6:\n",
    "            break\n",
    "        else:\n",
    "            prev_objs[prev_index] = curr_obj\n",
    "            prev_index = (prev_index + 1)%100\n",
    "            \n",
    "        # Update each element of W\n",
    "        for i in range(m):\n",
    "            for a in range(r):\n",
    "                coeff = np.sum(X[i, :]/XA[i, :]*H[a, :])\n",
    "                W[i, a] *= coeff\n",
    "        \n",
    "        # Normalize columns of W st they sum to 1\n",
    "        for a in range(r):\n",
    "            W[:, a] /= np.sum(W[:, a])\n",
    "        \n",
    "        # Update each element of H\n",
    "        for a in range(r):\n",
    "            for mu in range(n):\n",
    "                coeff = np.sum(W[:, a]*X[:, mu]/XA[:, mu])\n",
    "                H[a, mu] *= coeff\n",
    "                \n",
    "    return W, H"
   ]
  },
  {
   "cell_type": "code",
   "execution_count": 71,
   "metadata": {},
   "outputs": [],
   "source": [
    "X = np.random.randint(low=0, high=100, size=(5, 50))\n",
    "W, H = nmf(X, 3)"
   ]
  },
  {
   "cell_type": "markdown",
   "metadata": {},
   "source": [
    "## Bayesian Inference For NMF"
   ]
  },
  {
   "cell_type": "markdown",
   "metadata": {},
   "source": [
    "### $r = 1$ Case\n",
    "In this case, we factorize $X$ into row and column vectors $W$ and $H$ whose outer product is the approximation $\\tilde{X}$.\n",
    "\n",
    "$$\n",
    "\\begin{align}\n",
    "    \\begin{pmatrix}\n",
    "      x_{11} & \\dots & x_{1n} \\\\\n",
    "      \\vdots & \\ddots & \\vdots \\\\\n",
    "      x_{m1} & \\dots & x_{mn}\n",
    "    \\end{pmatrix}\n",
    "    \\approx\n",
    "    \\begin{pmatrix}\n",
    "      w_1 \\\\\n",
    "      \\vdots \\\\\n",
    "      w_m\n",
    "    \\end{pmatrix}\n",
    "    \\begin{pmatrix}\n",
    "      h_1 & \\dots & h_n\n",
    "    \\end{pmatrix}\n",
    "\\end{align}\n",
    "$$"
   ]
  },
  {
   "cell_type": "code",
   "execution_count": null,
   "metadata": {},
   "outputs": [],
   "source": [
    "def rank_one_nmf(X):\n",
    "    \"\"\"\n",
    "    Given a nonnegative matrix X, construct nonnegative vectors\n",
    "    w and h whose outer product approximates X.\n",
    "    \"\"\"\n",
    "    m, n = X.shape\n",
    "    w = X[:, 1]\n",
    "    h = np.ones(n)\n",
    "    for i in range(1, n):\n",
    "        # find h_i such that h_i*w is as close to X[i] as possible\n",
    "        \n",
    "    return w, h"
   ]
  },
  {
   "cell_type": "code",
   "execution_count": 11,
   "metadata": {},
   "outputs": [
    {
     "name": "stdout",
     "output_type": "stream",
     "text": [
      "[[  0.5  10.   15.    3.5]\n",
      " [  0.3   6.    9.    2.1]\n",
      " [  0.7  14.   21.    4.9]]\n"
     ]
    }
   ],
   "source": [
    "w = np.array([5, 3, 7])\n",
    "h = np.array([0.1, 2, 3, 0.7])\n",
    "X = np.outer(w, h)\n",
    "print(X)"
   ]
  },
  {
   "cell_type": "markdown",
   "metadata": {},
   "source": [
    "<a id='references'></a>\n",
    "## References\n",
    "1. D. Lee and H. S. Seung, “Learning the parts of objects with nonnegative matrix factorization,” Nature, vol. 401, pp. 788– 791, 1999."
   ]
  }
 ],
 "metadata": {
  "kernelspec": {
   "display_name": "Python 3",
   "language": "python",
   "name": "python3"
  },
  "language_info": {
   "codemirror_mode": {
    "name": "ipython",
    "version": 3
   },
   "file_extension": ".py",
   "mimetype": "text/x-python",
   "name": "python",
   "nbconvert_exporter": "python",
   "pygments_lexer": "ipython3",
   "version": "3.6.1"
  },
  "latex_envs": {
   "LaTeX_envs_menu_present": true,
   "autocomplete": false,
   "bibliofile": "biblio.bib",
   "cite_by": "apalike",
   "current_citInitial": 1,
   "eqLabelWithNumbers": true,
   "eqNumInitial": 1,
   "hotkeys": {
    "equation": "Ctrl-E",
    "itemize": "Ctrl-I"
   },
   "labels_anchors": false,
   "latex_user_defs": false,
   "report_style_numbering": false,
   "user_envs_cfg": false
  },
  "toc": {
   "nav_menu": {},
   "number_sections": true,
   "sideBar": true,
   "skip_h1_title": false,
   "toc_cell": false,
   "toc_position": {},
   "toc_section_display": "block",
   "toc_window_display": false
  },
  "varInspector": {
   "cols": {
    "lenName": 16,
    "lenType": 16,
    "lenVar": 40
   },
   "kernels_config": {
    "python": {
     "delete_cmd_postfix": "",
     "delete_cmd_prefix": "del ",
     "library": "var_list.py",
     "varRefreshCmd": "print(var_dic_list())"
    },
    "r": {
     "delete_cmd_postfix": ") ",
     "delete_cmd_prefix": "rm(",
     "library": "var_list.r",
     "varRefreshCmd": "cat(var_dic_list()) "
    }
   },
   "types_to_exclude": [
    "module",
    "function",
    "builtin_function_or_method",
    "instance",
    "_Feature"
   ],
   "window_display": false
  }
 },
 "nbformat": 4,
 "nbformat_minor": 2
}
