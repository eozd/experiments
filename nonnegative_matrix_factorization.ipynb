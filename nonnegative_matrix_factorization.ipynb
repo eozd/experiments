{
 "cells": [
  {
   "cell_type": "markdown",
   "metadata": {},
   "source": [
    "## Nonnegative Matrix Factorization"
   ]
  },
  {
   "cell_type": "code",
   "execution_count": 1,
   "metadata": {},
   "outputs": [],
   "source": [
    "%matplotlib inline\n",
    "%load_ext Cython\n",
    "\n",
    "import numpy as np\n",
    "import matplotlib.pyplot as plt\n",
    "from sklearn.decomposition import NMF as NMF_sklearn"
   ]
  },
  {
   "cell_type": "markdown",
   "metadata": {},
   "source": [
    "NMF is a method to factorize a nonnegative matrix $X_{m \\times n}$ to nonnegative matrix factors $W_{m \\times r}$ and $H_{r \\times n}$ such that $X \\approx WH$. Here, $r$ is a parameter to be determined and can be called the inner dimension."
   ]
  },
  {
   "cell_type": "markdown",
   "metadata": {},
   "source": [
    "### Iterative Algorithm for NMF\n",
    "An iterative algorithm for NMF as proposed in [[1]](#references) using the multiplicate update rules. This implementation is only for practice; when you need to use NMF, please refer to [sklearn.decomposition.NMF](http://scikit-learn.org/stable/modules/generated/sklearn.decomposition.NMF.html)."
   ]
  },
  {
   "cell_type": "code",
   "execution_count": 22,
   "metadata": {},
   "outputs": [],
   "source": [
    "%%cython\n",
    "import numpy as np\n",
    "cimport numpy as np\n",
    "cimport cython\n",
    "\n",
    "DTYPE = np.float64\n",
    "ctypedef np.float_t DTYPE_t\n",
    "\n",
    "@cython.boundscheck(False)\n",
    "@cython.wraparound(False)\n",
    "def obj_func(np.ndarray[DTYPE_t, ndim=2] orig, np.ndarray[DTYPE_t, ndim=2] approx):\n",
    "    \"\"\"\n",
    "    Compute the objective function value for NMF given the original\n",
    "    and approximate matrices.\n",
    "    \n",
    "    Parameters\n",
    "    ----------\n",
    "    orig : numpy.array\n",
    "        Original matrix to factorize.\n",
    "    approx : numpy.array\n",
    "        Current approximate matrix.\n",
    "        \n",
    "    Returns\n",
    "    -------\n",
    "    obj_value : float\n",
    "        Current objective function value.\n",
    "    \"\"\"\n",
    "    return np.sum(orig*np.log(approx) - approx)\n",
    "\n",
    "@cython.boundscheck(False)\n",
    "@cython.wraparound(False)\n",
    "@cython.cdivision(True)\n",
    "def nmf(np.ndarray[DTYPE_t, ndim=2] X, int r):\n",
    "    \"\"\"\n",
    "    Given a nonnegative matrix X of shape m x n, iteratively\n",
    "    compute a nonnegative matrix factorization X = WH, and\n",
    "    return the factors W and H.\n",
    "    \n",
    "    The returned factors have shapes (m, r) and (r, n),\n",
    "    respectively.\n",
    "    \n",
    "    Parameters\n",
    "    ----------\n",
    "    X : numpy.array\n",
    "        m x n nonnegative matrix.\n",
    "    r : int\n",
    "        Number of columns of factor W.\n",
    "        \n",
    "    Returns\n",
    "    -------\n",
    "    W : numpy.array\n",
    "        m x r nonnegative matrix.\n",
    "    H : numpy.array\n",
    "        r x n nonnegative matrix.\n",
    "    \"\"\"\n",
    "    cdef int m = X.shape[0]\n",
    "    cdef int n = X.shape[1]\n",
    "    cdef int prev_index = 0\n",
    "    cdef int a, i, mu\n",
    "    cdef DTYPE_t curr_obj, curr_mean\n",
    "    cdef DTYPE_t prev_mean = 0\n",
    "    cdef DTYPE_t coeff, col_sum\n",
    "    cdef np.ndarray[DTYPE_t, ndim=2] W = np.random.rand(m, r)\n",
    "    cdef np.ndarray[DTYPE_t, ndim=2] H = np.random.rand(r, n)\n",
    "    cdef np.ndarray[DTYPE_t, ndim=1] prev_objs = np.zeros(10, dtype=DTYPE)\n",
    "    cdef np.ndarray[DTYPE_t, ndim=2] XA\n",
    "    \n",
    "    while True:\n",
    "        XA = W@H \n",
    "        \n",
    "        # Convergence check\n",
    "        curr_obj = obj_func(X, XA)\n",
    "        if abs(curr_obj - prev_mean) < 1e-6:\n",
    "            break\n",
    "        else:\n",
    "            prev_mean = (10*prev_mean - prev_objs[prev_index] + curr_obj)/10\n",
    "            prev_objs[prev_index] = curr_obj\n",
    "            prev_index = (prev_index + 1)%10\n",
    "            \n",
    "        # Update each element of W while fixing H\n",
    "        for i in range(m):\n",
    "            for a in range(r):\n",
    "                coeff = 0\n",
    "                for mu in range(n):\n",
    "                    coeff += X[i, mu]/XA[i, mu]*H[a, mu]\n",
    "                W[i, a] *= coeff\n",
    "        \n",
    "        # Normalize columns of W st they sum to 1\n",
    "        for a in range(r):\n",
    "            col_sum = 0\n",
    "            for i in range(m):\n",
    "                col_sum += W[i, a]\n",
    "            for i in range(m):\n",
    "                W[i, a] /= col_sum\n",
    "        \n",
    "        # Update each element of H while fixing W\n",
    "        for a in range(r):\n",
    "            for mu in range(n):\n",
    "                coeff = 0\n",
    "                for i in range(m):\n",
    "                    coeff += W[i, a]*X[i, mu]/XA[i, mu]\n",
    "                H[a, mu] *= coeff\n",
    "                \n",
    "    return W, H"
   ]
  },
  {
   "cell_type": "code",
   "execution_count": 34,
   "metadata": {},
   "outputs": [],
   "source": [
    "X = np.random.randint(low=0, high=100, size=(10, 200)).astype(np.float)"
   ]
  },
  {
   "cell_type": "code",
   "execution_count": 37,
   "metadata": {},
   "outputs": [],
   "source": [
    "r = 4\n",
    "W, H = nmf(X, r)\n",
    "\n",
    "learner = NMF_sklearn(n_components=r, solver='mu', max_iter=1000)\n",
    "W_sklearn = learner.fit_transform(X)\n",
    "H_sklearn = learner.components_"
   ]
  },
  {
   "cell_type": "code",
   "execution_count": 38,
   "metadata": {},
   "outputs": [
    {
     "name": "stdout",
     "output_type": "stream",
     "text": [
      "Divergence of our impl.    : 976.5349142405947\n",
      "Divergence of sklearn impl.: 1009.184869947594\n"
     ]
    }
   ],
   "source": [
    "D = X - W@H\n",
    "D_sklearn = X - W_sklearn@H_sklearn\n",
    "\n",
    "print('Divergence of our impl.    : {}'.format(la.norm(D, ord='fro')))\n",
    "print('Divergence of sklearn impl.: {}'.format(la.norm(D_sklearn, ord='fro')))"
   ]
  },
  {
   "cell_type": "markdown",
   "metadata": {},
   "source": [
    "## Bayesian Inference For NMF"
   ]
  },
  {
   "cell_type": "markdown",
   "metadata": {},
   "source": [
    "### $r = 1$ Case\n",
    "In this case, we factorize $X$ into row and column vectors $W$ and $H$ whose outer product is the approximation $\\tilde{X}$.\n",
    "\n",
    "$$\n",
    "\\begin{align}\n",
    "    \\begin{pmatrix}\n",
    "      x_{11} & \\dots & x_{1n} \\\\\n",
    "      \\vdots & \\ddots & \\vdots \\\\\n",
    "      x_{m1} & \\dots & x_{mn}\n",
    "    \\end{pmatrix}\n",
    "    \\approx\n",
    "    \\begin{pmatrix}\n",
    "      w_1 \\\\\n",
    "      \\vdots \\\\\n",
    "      w_m\n",
    "    \\end{pmatrix}\n",
    "    \\begin{pmatrix}\n",
    "      h_1 & \\dots & h_n\n",
    "    \\end{pmatrix}\n",
    "\\end{align}\n",
    "$$"
   ]
  },
  {
   "cell_type": "code",
   "execution_count": 62,
   "metadata": {},
   "outputs": [],
   "source": [
    "def rank_one_nmf(X):\n",
    "    \"\"\"\n",
    "    Given a nonnegative matrix X, construct nonnegative vectors\n",
    "    w and h whose outer product approximates X.\n",
    "    \"\"\"\n",
    "    m, n = X.shape\n",
    "    w = X[:, 0]\n",
    "    h = np.ones(n)\n",
    "    for i in range(1, n):\n",
    "        w_unit = w/la.norm(w)\n",
    "        proj = np.dot(X[:, i], w_unit)*w_unit   \n",
    "        h[i] = np.mean(proj/w)\n",
    "    return w, h"
   ]
  },
  {
   "cell_type": "code",
   "execution_count": 71,
   "metadata": {},
   "outputs": [
    {
     "name": "stdout",
     "output_type": "stream",
     "text": [
      "Original matrix\n",
      " [[  0.5  10.   15.    3.5]\n",
      " [  0.3   6.    9.    2.1]\n",
      " [  0.7  14.   21.    4.9]]\n",
      "Reconstructed matrix\n",
      " [[  0.5  10.   15.    3.5]\n",
      " [  0.3   6.    9.    2.1]\n",
      " [  0.7  14.   21.    4.9]]\n",
      "w =  [ 0.5  0.3  0.7]\n",
      "h =  [  1.  20.  30.   7.]\n"
     ]
    }
   ],
   "source": [
    "w = np.array([5, 3, 7])\n",
    "h = np.array([0.1, 2, 3, 0.7])\n",
    "X = np.outer(w, h)\n",
    "#X = np.random.randint(low=0, high=100, size=(3, 3))\n",
    "print('Original matrix\\n', X)\n",
    "w_found, h_found = rank_one_nmf(X)\n",
    "print('Reconstructed matrix\\n', np.outer(w_found, h_found))\n",
    "print('w = ', w_found)\n",
    "print('h = ', h_found)"
   ]
  },
  {
   "cell_type": "markdown",
   "metadata": {},
   "source": [
    "<a id='references'></a>\n",
    "## References\n",
    "1. D. Lee and H. S. Seung, “Learning the parts of objects with nonnegative matrix factorization,” Nature, vol. 401, pp. 788– 791, 1999."
   ]
  }
 ],
 "metadata": {
  "kernelspec": {
   "display_name": "Python 3",
   "language": "python",
   "name": "python3"
  },
  "language_info": {
   "codemirror_mode": {
    "name": "ipython",
    "version": 3
   },
   "file_extension": ".py",
   "mimetype": "text/x-python",
   "name": "python",
   "nbconvert_exporter": "python",
   "pygments_lexer": "ipython3",
   "version": "3.6.1"
  },
  "latex_envs": {
   "LaTeX_envs_menu_present": true,
   "autocomplete": false,
   "bibliofile": "biblio.bib",
   "cite_by": "apalike",
   "current_citInitial": 1,
   "eqLabelWithNumbers": true,
   "eqNumInitial": 1,
   "hotkeys": {
    "equation": "Ctrl-E",
    "itemize": "Ctrl-I"
   },
   "labels_anchors": false,
   "latex_user_defs": false,
   "report_style_numbering": false,
   "user_envs_cfg": false
  },
  "toc": {
   "nav_menu": {},
   "number_sections": true,
   "sideBar": true,
   "skip_h1_title": false,
   "toc_cell": false,
   "toc_position": {},
   "toc_section_display": "block",
   "toc_window_display": false
  },
  "varInspector": {
   "cols": {
    "lenName": 16,
    "lenType": 16,
    "lenVar": 40
   },
   "kernels_config": {
    "python": {
     "delete_cmd_postfix": "",
     "delete_cmd_prefix": "del ",
     "library": "var_list.py",
     "varRefreshCmd": "print(var_dic_list())"
    },
    "r": {
     "delete_cmd_postfix": ") ",
     "delete_cmd_prefix": "rm(",
     "library": "var_list.r",
     "varRefreshCmd": "cat(var_dic_list()) "
    }
   },
   "types_to_exclude": [
    "module",
    "function",
    "builtin_function_or_method",
    "instance",
    "_Feature"
   ],
   "window_display": false
  }
 },
 "nbformat": 4,
 "nbformat_minor": 2
}
