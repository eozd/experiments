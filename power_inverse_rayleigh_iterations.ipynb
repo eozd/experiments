{
 "cells": [
  {
   "cell_type": "code",
   "execution_count": 12,
   "metadata": {},
   "outputs": [],
   "source": [
    "%matplotlib inline\n",
    "\n",
    "import numpy as np\n",
    "import numpy.linalg as la\n",
    "import matplotlib.pyplot as plt"
   ]
  },
  {
   "cell_type": "code",
   "execution_count": 30,
   "metadata": {
    "collapsed": true
   },
   "outputs": [],
   "source": [
    "def power_iter(A, v, n=100):\n",
    "    \"\"\"\n",
    "    Produce the vectors converging to the eigenvector corresponding to the\n",
    "    largest eigenvalue of A.\n",
    "\n",
    "    A: 2x2 matrix\n",
    "    n: number of iterations\n",
    "    \"\"\"\n",
    "    v = v/la.norm(v)\n",
    "    seq = np.empty((n + 1, 2))\n",
    "    seq[0] = v\n",
    "    for i in range(n):\n",
    "        w = A@v\n",
    "        v = w/la.norm(w)\n",
    "        seq[i + 1] = v\n",
    "    rayleigh = v.T@(A@v)\n",
    "    return rayleigh, seq"
   ]
  },
  {
   "cell_type": "code",
   "execution_count": 4,
   "metadata": {
    "collapsed": true
   },
   "outputs": [],
   "source": [
    "def visualize_convergence(ev, seq):\n",
    "    \"\"\"\n",
    "    Given a sequence of 2D vectors, draw and show them as quivers.\n",
    "\n",
    "    ev:  Eigenvalue\n",
    "    seq: An nx2 numpy array containing n 2D vectors.\n",
    "    \"\"\"\n",
    "    n = seq.shape[0]\n",
    "    vectors = np.zeros((n, 4))\n",
    "    vectors[:, 2:] = seq\n",
    "    X, Y, U, V = zip(*vectors)\n",
    "    C = np.arange(n)\n",
    "    plt.figure()\n",
    "    ax = plt.gca()\n",
    "    ax.quiver(X, Y, U, V, C, angles='xy', scale_units='xy', scale=1)\n",
    "    ax.set_xlim([-1, 1])\n",
    "    ax.set_ylim([-1, 1])\n",
    "    plt.legend(['Eigenvalue: ' + str(ev)])\n",
    "    plt.draw()\n",
    "    plt.show()"
   ]
  },
  {
   "cell_type": "markdown",
   "metadata": {},
   "source": [
    "Get a random unitary $2 \\times 2$ matrix $Q$ and a random initial eigenvector estimate $v$."
   ]
  },
  {
   "cell_type": "code",
   "execution_count": 20,
   "metadata": {
    "collapsed": true
   },
   "outputs": [],
   "source": [
    "Q, _ = la.qr(np.random.rand(2, 2))\n",
    "v = np.random.rand(2)"
   ]
  },
  {
   "cell_type": "code",
   "execution_count": 33,
   "metadata": {},
   "outputs": [
    {
     "data": {
      "application/vnd.jupyter.widget-view+json": {
       "model_id": "226d5dd47a5b43b195ca396d051234b6"
      }
     },
     "metadata": {},
     "output_type": "display_data"
    }
   ],
   "source": [
    "from ipywidgets import interact\n",
    "\n",
    "@interact(ev1=(-2, 2, 0.05), ev2=(-2, 2, 0.01), num_iterations=(1, 1000, 1))\n",
    "def fn(ev1=2, ev2=0.01, num_iterations=10):\n",
    "    L = np.diag([ev1, ev2])\n",
    "    A = Q@L@Q.T\n",
    "    visualize_convergence(*power_iter(A, v, num_iterations))"
   ]
  },
  {
   "cell_type": "markdown",
   "metadata": {},
   "source": [
    "### Observations About Power Iteration\n",
    "* **Setup:** Fix **ev1** to 2.0 and gradually increase **ev2** from 0 up to 2.\n",
    "* Initial estimate is the first purple vector; final eigenvector estimate is the yellow vector.\n",
    "\n",
    "1. As **ev2** gets closer to **ev1**, \n",
    "  1. the convergence rate decreases; this can be seen by observing the increase in the number of vectors between the initial and the final eigenvector estimates.\n",
    "  2. The eigenvalue and the eigenvector to which the iteration converges to deviates from the correct value; this can be observed by the change in the eigenvalue estimate written on the legend and the rotation of the eigenvector estimate (yellow vector).\n",
    "  3. If we increase the number of iterations, then the amount the estimates deviate from the true values decreases.\n",
    "\n",
    "* If the eigenvalues have different signs, then the convergence is oscillatory (Eigenvector estimate bounces back and forth between two quadrants)\n",
    "* When **$ev1 = -ev2$**, the result is terrible; no convergence at all, simply non-converging oscillation between two eigenvector estimates.\n",
    "\n",
    "### Interesting Setups\n",
    "1. $ev1 = 1.80, \\quad ev2 = -1.90, \\quad n = 75.$"
   ]
  }
 ],
 "metadata": {
  "kernelspec": {
   "display_name": "Python 3",
   "language": "python",
   "name": "python3"
  },
  "language_info": {
   "codemirror_mode": {
    "name": "ipython",
    "version": 3
   },
   "file_extension": ".py",
   "mimetype": "text/x-python",
   "name": "python",
   "nbconvert_exporter": "python",
   "pygments_lexer": "ipython3",
   "version": "3.6.1"
  }
 },
 "nbformat": 4,
 "nbformat_minor": 2
}
